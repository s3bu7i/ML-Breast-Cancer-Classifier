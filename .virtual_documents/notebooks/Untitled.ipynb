import pandas as pd
import numpy as np
from sklearn.model_selection import train_test_split, GridSearchCV
from sklearn.preprocessing import StandardScaler, LabelEncoder
from sklearn.tree import DecisionTreeClassifier
from sklearn.linear_model import LogisticRegression
from sklearn.metrics import classification_report, confusion_matrix, roc_curve, auc
import matplotlib.pyplot as plt
import seaborn as sns


# 1. Data Exploration and Preprocessing
# Drop irrelevant columns (e.g., 'id')
data.drop(columns=['id'], inplace=True)

# Encode the target variable ('diagnosis')
label_encoder = LabelEncoder()
data['diagnosis'] = label_encoder.fit_transform(data['diagnosis']) # 0 for benign, 1 for malignant

# Check for missing values
if data.isnull().sum().sum() > 0:
    data.fillna(data.mean(), inplace=True) # Handle missing values by filling with mean (if any)

# Separate features and target variable
X = data.drop(columns=['diagnosis'])
y = data['diagnosis']

# Normalize features
scaler = StandardScaler()
X_scaled = scaler.fit_transform(X)

# Split data into training and test sets
X_train, X_test, y_train, y_test = train_test_split(X_scaled, y, test_size=0.2, random_state=42)



